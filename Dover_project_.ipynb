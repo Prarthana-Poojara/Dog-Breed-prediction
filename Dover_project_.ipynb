{
  "nbformat": 4,
  "nbformat_minor": 0,
  "metadata": {
    "colab": {
      "name": "Dover project .ipynb",
      "provenance": [],
      "mount_file_id": "12fLGvX17U-7mFgofUEocz8UUh_hS0HW2",
      "authorship_tag": "ABX9TyM+Iu8QAtbp5Avf4MaSKWUd",
      "include_colab_link": true
    },
    "kernelspec": {
      "name": "python3",
      "display_name": "Python 3"
    },
    "accelerator": "GPU"
  },
  "cells": [
    {
      "cell_type": "markdown",
      "metadata": {
        "id": "view-in-github",
        "colab_type": "text"
      },
      "source": [
        "<a href=\"https://colab.research.google.com/github/Prarthana-Poojara/Dog-Breed-prediction/blob/master/Dover_project_.ipynb\" target=\"_parent\"><img src=\"https://colab.research.google.com/assets/colab-badge.svg\" alt=\"Open In Colab\"/></a>"
      ]
    },
    {
      "cell_type": "markdown",
      "metadata": {
        "id": "Gl9tAh2ARtux",
        "colab_type": "text"
      },
      "source": [
        "# End to end multi-class Dog Breed Classification !\n",
        "\n",
        "This notebook builds an end to end multi class dog breed image classifier using kaggel's dataset . \n",
        "\n",
        "Here we'll be using some deep learning / Transfer learning techniques to classify 120 different drog breeds. \n"
      ]
    },
    {
      "cell_type": "code",
      "metadata": {
        "id": "2VSZd4huScDd",
        "colab_type": "code",
        "colab": {
          "base_uri": "https://localhost:8080/",
          "height": 68
        },
        "outputId": "7f89e1f9-e32d-484a-fae6-0fdeea7c1b24"
      },
      "source": [
        "## checking if our workspace is ready ! \n",
        "import tensorflow as tf \n",
        "import tensorflow_hub as hub \n",
        "print(\"TF version\", tf.__version__)\n",
        "print(\"TF hub version\",hub.__version__)\n",
        "\n",
        "# checking the availablity for GPU \n",
        "\n",
        "print(\"GPU available\"if tf.config.list_physical_devices(\"GPU\") else \"GPU not available!\")"
      ],
      "execution_count": 73,
      "outputs": [
        {
          "output_type": "stream",
          "text": [
            "TF version 2.2.0\n",
            "TF hub version 0.8.0\n",
            "GPU available\n"
          ],
          "name": "stdout"
        }
      ]
    },
    {
      "cell_type": "markdown",
      "metadata": {
        "id": "A0K2Uxw5Uv1A",
        "colab_type": "text"
      },
      "source": [
        "## 1. Collecting our data "
      ]
    },
    {
      "cell_type": "code",
      "metadata": {
        "id": "1oyTHNZSU6oJ",
        "colab_type": "code",
        "colab": {
          "base_uri": "https://localhost:8080/",
          "height": 204
        },
        "outputId": "8ca365cf-749c-4fbf-8325-2e9a52c658e5"
      },
      "source": [
        "import pandas as pd \n",
        "labels= pd.read_csv(\"/content/drive/My Drive/Dog-Breed-Project/labels.csv\")\n",
        "labels.head()"
      ],
      "execution_count": 74,
      "outputs": [
        {
          "output_type": "execute_result",
          "data": {
            "text/html": [
              "<div>\n",
              "<style scoped>\n",
              "    .dataframe tbody tr th:only-of-type {\n",
              "        vertical-align: middle;\n",
              "    }\n",
              "\n",
              "    .dataframe tbody tr th {\n",
              "        vertical-align: top;\n",
              "    }\n",
              "\n",
              "    .dataframe thead th {\n",
              "        text-align: right;\n",
              "    }\n",
              "</style>\n",
              "<table border=\"1\" class=\"dataframe\">\n",
              "  <thead>\n",
              "    <tr style=\"text-align: right;\">\n",
              "      <th></th>\n",
              "      <th>id</th>\n",
              "      <th>breed</th>\n",
              "    </tr>\n",
              "  </thead>\n",
              "  <tbody>\n",
              "    <tr>\n",
              "      <th>0</th>\n",
              "      <td>000bec180eb18c7604dcecc8fe0dba07</td>\n",
              "      <td>boston_bull</td>\n",
              "    </tr>\n",
              "    <tr>\n",
              "      <th>1</th>\n",
              "      <td>001513dfcb2ffafc82cccf4d8bbaba97</td>\n",
              "      <td>dingo</td>\n",
              "    </tr>\n",
              "    <tr>\n",
              "      <th>2</th>\n",
              "      <td>001cdf01b096e06d78e9e5112d419397</td>\n",
              "      <td>pekinese</td>\n",
              "    </tr>\n",
              "    <tr>\n",
              "      <th>3</th>\n",
              "      <td>00214f311d5d2247d5dfe4fe24b2303d</td>\n",
              "      <td>bluetick</td>\n",
              "    </tr>\n",
              "    <tr>\n",
              "      <th>4</th>\n",
              "      <td>0021f9ceb3235effd7fcde7f7538ed62</td>\n",
              "      <td>golden_retriever</td>\n",
              "    </tr>\n",
              "  </tbody>\n",
              "</table>\n",
              "</div>"
            ],
            "text/plain": [
              "                                 id             breed\n",
              "0  000bec180eb18c7604dcecc8fe0dba07       boston_bull\n",
              "1  001513dfcb2ffafc82cccf4d8bbaba97             dingo\n",
              "2  001cdf01b096e06d78e9e5112d419397          pekinese\n",
              "3  00214f311d5d2247d5dfe4fe24b2303d          bluetick\n",
              "4  0021f9ceb3235effd7fcde7f7538ed62  golden_retriever"
            ]
          },
          "metadata": {
            "tags": []
          },
          "execution_count": 74
        }
      ]
    },
    {
      "cell_type": "code",
      "metadata": {
        "id": "oiMsfu1bVbZc",
        "colab_type": "code",
        "colab": {
          "base_uri": "https://localhost:8080/",
          "height": 173
        },
        "outputId": "4e14eda7-8b4b-4a6b-968e-27ad75a2c5d0"
      },
      "source": [
        "labels.describe()"
      ],
      "execution_count": 75,
      "outputs": [
        {
          "output_type": "execute_result",
          "data": {
            "text/html": [
              "<div>\n",
              "<style scoped>\n",
              "    .dataframe tbody tr th:only-of-type {\n",
              "        vertical-align: middle;\n",
              "    }\n",
              "\n",
              "    .dataframe tbody tr th {\n",
              "        vertical-align: top;\n",
              "    }\n",
              "\n",
              "    .dataframe thead th {\n",
              "        text-align: right;\n",
              "    }\n",
              "</style>\n",
              "<table border=\"1\" class=\"dataframe\">\n",
              "  <thead>\n",
              "    <tr style=\"text-align: right;\">\n",
              "      <th></th>\n",
              "      <th>id</th>\n",
              "      <th>breed</th>\n",
              "    </tr>\n",
              "  </thead>\n",
              "  <tbody>\n",
              "    <tr>\n",
              "      <th>count</th>\n",
              "      <td>10222</td>\n",
              "      <td>10222</td>\n",
              "    </tr>\n",
              "    <tr>\n",
              "      <th>unique</th>\n",
              "      <td>10222</td>\n",
              "      <td>120</td>\n",
              "    </tr>\n",
              "    <tr>\n",
              "      <th>top</th>\n",
              "      <td>b23af128a502079098556ca7ea2f981e</td>\n",
              "      <td>scottish_deerhound</td>\n",
              "    </tr>\n",
              "    <tr>\n",
              "      <th>freq</th>\n",
              "      <td>1</td>\n",
              "      <td>126</td>\n",
              "    </tr>\n",
              "  </tbody>\n",
              "</table>\n",
              "</div>"
            ],
            "text/plain": [
              "                                      id               breed\n",
              "count                              10222               10222\n",
              "unique                             10222                 120\n",
              "top     b23af128a502079098556ca7ea2f981e  scottish_deerhound\n",
              "freq                                   1                 126"
            ]
          },
          "metadata": {
            "tags": []
          },
          "execution_count": 75
        }
      ]
    },
    {
      "cell_type": "code",
      "metadata": {
        "id": "C9Iei25KVmjT",
        "colab_type": "code",
        "colab": {
          "base_uri": "https://localhost:8080/",
          "height": 601
        },
        "outputId": "21dc3784-dc65-4d33-bf46-fc7e9ee0a74a"
      },
      "source": [
        "# how many images are there of each breed ? \n",
        "labels[\"breed\"].value_counts().plot.bar(figsize=(20,10));"
      ],
      "execution_count": 76,
      "outputs": [
        {
          "output_type": "display_data",
          "data": {
            "image/png": "[encoded data removed]",
            "text/plain": [
              "<Figure size 1440x720 with 1 Axes>"
            ]
          },
          "metadata": {
            "tags": [],
            "needs_background": "light"
          }
        }
      ]
    },
    {
      "cell_type": "code",
      "metadata": {
        "id": "g9AuBLCZWMf7",
        "colab_type": "code",
        "colab": {
          "base_uri": "https://localhost:8080/",
          "height": 34
        },
        "outputId": "7d859c19-e1e6-4526-aa9d-a8719928cd7f"
      },
      "source": [
        "labels[\"breed\"].value_counts().median()"
      ],
      "execution_count": 77,
      "outputs": [
        {
          "output_type": "execute_result",
          "data": {
            "text/plain": [
              "82.0"
            ]
          },
          "metadata": {
            "tags": []
          },
          "execution_count": 77
        }
      ]
    },
    {
      "cell_type": "code",
      "metadata": {
        "id": "SzYg8UW0Wlwv",
        "colab_type": "code",
        "colab": {
          "base_uri": "https://localhost:8080/",
          "height": 187
        },
        "outputId": "80f3a577-63dd-4d5d-c853-2a83e9cc30cc"
      },
      "source": [
        "### Create pathnames from image IDs \n",
        "##i.e concatinating images in the training data with their respective labels.\n",
        "\n",
        "filename = [\"drive/My Drive/Dog-Breed-Project/train/\"+ fname + \".jpg\" for fname in labels[\"id\"]]\n",
        "\n",
        "filename[:10]"
      ],
      "execution_count": 78,
      "outputs": [
        {
          "output_type": "execute_result",
          "data": {
            "text/plain": [
              "['drive/My Drive/Dog-Breed-Project/train/000bec180eb18c7604dcecc8fe0dba07.jpg',\n",
              " 'drive/My Drive/Dog-Breed-Project/train/001513dfcb2ffafc82cccf4d8bbaba97.jpg',\n",
              " 'drive/My Drive/Dog-Breed-Project/train/001cdf01b096e06d78e9e5112d419397.jpg',\n",
              " 'drive/My Drive/Dog-Breed-Project/train/00214f311d5d2247d5dfe4fe24b2303d.jpg',\n",
              " 'drive/My Drive/Dog-Breed-Project/train/0021f9ceb3235effd7fcde7f7538ed62.jpg',\n",
              " 'drive/My Drive/Dog-Breed-Project/train/002211c81b498ef88e1b40b9abf84e1d.jpg',\n",
              " 'drive/My Drive/Dog-Breed-Project/train/00290d3e1fdd27226ba27a8ce248ce85.jpg',\n",
              " 'drive/My Drive/Dog-Breed-Project/train/002a283a315af96eaea0e28e7163b21b.jpg',\n",
              " 'drive/My Drive/Dog-Breed-Project/train/003df8b8a8b05244b1d920bb6cf451f9.jpg',\n",
              " 'drive/My Drive/Dog-Breed-Project/train/0042188c895a2f14ef64a918ed9c7b64.jpg']"
            ]
          },
          "metadata": {
            "tags": []
          },
          "execution_count": 78
        }
      ]
    },
    {
      "cell_type": "code",
      "metadata": {
        "id": "j8e0Je8-Xi6M",
        "colab_type": "code",
        "colab": {
          "base_uri": "https://localhost:8080/",
          "height": 34
        },
        "outputId": "ea5dc671-15e8-4d75-90b3-4f3fa8519add"
      },
      "source": [
        "# checking if the number of images n filename matches the actual number of images \n",
        "import os \n",
        "if len(os.listdir(\"drive/My Drive/Dog-Breed-Project/train/\"))==len(filename):\n",
        "  print(\"The number of images are equal\")\n",
        "else:\n",
        "  print(\"The number of images are not equal.\")"
      ],
      "execution_count": 79,
      "outputs": [
        {
          "output_type": "stream",
          "text": [
            "The number of images are equal\n"
          ],
          "name": "stdout"
        }
      ]
    },
    {
      "cell_type": "code",
      "metadata": {
        "id": "Y6SkrLIWYcsR",
        "colab_type": "code",
        "colab": {
          "base_uri": "https://localhost:8080/",
          "height": 51
        },
        "outputId": "438fbbb2-ae90-4361-8004-edaf08d064a0"
      },
      "source": [
        "# lets manipulate the labels !\n",
        "# converting labels into a numpy array!\n",
        "import numpy as np \n",
        "labels=np.array(labels[\"breed\"])\n",
        "labels"
      ],
      "execution_count": 80,
      "outputs": [
        {
          "output_type": "execute_result",
          "data": {
            "text/plain": [
              "array(['boston_bull', 'dingo', 'pekinese', ..., 'airedale',\n",
              "       'miniature_pinscher', 'chesapeake_bay_retriever'], dtype=object)"
            ]
          },
          "metadata": {
            "tags": []
          },
          "execution_count": 80
        }
      ]
    },
    {
      "cell_type": "code",
      "metadata": {
        "id": "DjlXnqFAZmbJ",
        "colab_type": "code",
        "colab": {
          "base_uri": "https://localhost:8080/",
          "height": 34
        },
        "outputId": "408a7e72-ba78-484c-89b7-39cf6241c111"
      },
      "source": [
        "len(labels)"
      ],
      "execution_count": 81,
      "outputs": [
        {
          "output_type": "execute_result",
          "data": {
            "text/plain": [
              "10222"
            ]
          },
          "metadata": {
            "tags": []
          },
          "execution_count": 81
        }
      ]
    },
    {
      "cell_type": "code",
      "metadata": {
        "id": "_RTpBzYoaNGy",
        "colab_type": "code",
        "colab": {
          "base_uri": "https://localhost:8080/",
          "height": 34
        },
        "outputId": "839d2181-6462-40be-cbd5-5a27a7ebcdf2"
      },
      "source": [
        "unique_breeds=np.unique(labels)\n",
        "print(len(unique_breeds))"
      ],
      "execution_count": 82,
      "outputs": [
        {
          "output_type": "stream",
          "text": [
            "120\n"
          ],
          "name": "stdout"
        }
      ]
    },
    {
      "cell_type": "code",
      "metadata": {
        "id": "W5byp3M2aY2O",
        "colab_type": "code",
        "colab": {
          "base_uri": "https://localhost:8080/",
          "height": 493
        },
        "outputId": "cf64055c-708c-4999-b53a-3fcb738502b0"
      },
      "source": [
        "# Turning labels into array of booleans \n",
        "bool_labels= [label==unique_breeds for label in labels ]\n",
        "bool_labels[:2]"
      ],
      "execution_count": 83,
      "outputs": [
        {
          "output_type": "execute_result",
          "data": {
            "text/plain": [
              "[array([False, False, False, False, False, False, False, False, False,\n",
              "        False, False, False, False, False, False, False, False, False,\n",
              "        False,  True, False, False, False, False, False, False, False,\n",
              "        False, False, False, False, False, False, False, False, False,\n",
              "        False, False, False, False, False, False, False, False, False,\n",
              "        False, False, False, False, False, False, False, False, False,\n",
              "        False, False, False, False, False, False, False, False, False,\n",
              "        False, False, False, False, False, False, False, False, False,\n",
              "        False, False, False, False, False, False, False, False, False,\n",
              "        False, False, False, False, False, False, False, False, False,\n",
              "        False, False, False, False, False, False, False, False, False,\n",
              "        False, False, False, False, False, False, False, False, False,\n",
              "        False, False, False, False, False, False, False, False, False,\n",
              "        False, False, False]),\n",
              " array([False, False, False, False, False, False, False, False, False,\n",
              "        False, False, False, False, False, False, False, False, False,\n",
              "        False, False, False, False, False, False, False, False, False,\n",
              "        False, False, False, False, False, False, False, False, False,\n",
              "        False,  True, False, False, False, False, False, False, False,\n",
              "        False, False, False, False, False, False, False, False, False,\n",
              "        False, False, False, False, False, False, False, False, False,\n",
              "        False, False, False, False, False, False, False, False, False,\n",
              "        False, False, False, False, False, False, False, False, False,\n",
              "        False, False, False, False, False, False, False, False, False,\n",
              "        False, False, False, False, False, False, False, False, False,\n",
              "        False, False, False, False, False, False, False, False, False,\n",
              "        False, False, False, False, False, False, False, False, False,\n",
              "        False, False, False])]"
            ]
          },
          "metadata": {
            "tags": []
          },
          "execution_count": 83
        }
      ]
    },
    {
      "cell_type": "code",
      "metadata": {
        "id": "WTfn5nwLa-av",
        "colab_type": "code",
        "colab": {
          "base_uri": "https://localhost:8080/",
          "height": 34
        },
        "outputId": "f3bb0ebb-29ce-4665-8394-6378984c6674"
      },
      "source": [
        "len(bool_labels)"
      ],
      "execution_count": 84,
      "outputs": [
        {
          "output_type": "execute_result",
          "data": {
            "text/plain": [
              "10222"
            ]
          },
          "metadata": {
            "tags": []
          },
          "execution_count": 84
        }
      ]
    },
    {
      "cell_type": "markdown",
      "metadata": {
        "id": "88cPIrgYbDWh",
        "colab_type": "text"
      },
      "source": [
        "##2. Creating Our own Validation set! \n"
      ]
    },
    {
      "cell_type": "code",
      "metadata": {
        "id": "styeR8Htb7SA",
        "colab_type": "code",
        "colab": {}
      },
      "source": [
        "# lets set up x and y variables \n",
        "\n",
        "x = filename\n",
        "y = bool_labels"
      ],
      "execution_count": 85,
      "outputs": []
    },
    {
      "cell_type": "code",
      "metadata": {
        "id": "Ksx1K2X_ciD8",
        "colab_type": "code",
        "colab": {
          "base_uri": "https://localhost:8080/",
          "height": 34
        },
        "outputId": "ee2e3469-e6b8-49c2-e4d4-3af2e28464eb"
      },
      "source": [
        "len(filename)"
      ],
      "execution_count": 86,
      "outputs": [
        {
          "output_type": "execute_result",
          "data": {
            "text/plain": [
              "10222"
            ]
          },
          "metadata": {
            "tags": []
          },
          "execution_count": 86
        }
      ]
    },
    {
      "cell_type": "markdown",
      "metadata": {
        "id": "HSK52Qdwcn9i",
        "colab_type": "text"
      },
      "source": [
        "We're going to start experimenting with ~ 1000 images and increase it as we need "
      ]
    },
    {
      "cell_type": "code",
      "metadata": {
        "id": "PbgpZrXgdTx-",
        "colab_type": "code",
        "colab": {}
      },
      "source": [
        "NUM_IMAGES=1000 #@param{type:\"slider\",min:1000, max:10000, step:1000}"
      ],
      "execution_count": 87,
      "outputs": []
    },
    {
      "cell_type": "code",
      "metadata": {
        "id": "YEqGsdmXdrMI",
        "colab_type": "code",
        "colab": {}
      },
      "source": [
        "# lets split our data into train and validation data sets \n",
        "from sklearn.model_selection import train_test_split\n",
        "\n",
        "#split the into training and validation data sets of total size NUM_IMAGES \n",
        "x_train,x_val,y_train,y_val = train_test_split(x[:NUM_IMAGES],\n",
        "                                               y[:NUM_IMAGES],\n",
        "                                               test_size=0.2,\n",
        "                                               random_state=42)\n",
        " \n"
      ],
      "execution_count": 88,
      "outputs": []
    },
    {
      "cell_type": "code",
      "metadata": {
        "id": "GXTLsQneedfJ",
        "colab_type": "code",
        "colab": {
          "base_uri": "https://localhost:8080/",
          "height": 34
        },
        "outputId": "badb9550-aad6-41cb-f86b-202065128b2a"
      },
      "source": [
        "len(x_train),len(x_val),len(y_train),len(y_val)"
      ],
      "execution_count": 89,
      "outputs": [
        {
          "output_type": "execute_result",
          "data": {
            "text/plain": [
              "(800, 200, 800, 200)"
            ]
          },
          "metadata": {
            "tags": []
          },
          "execution_count": 89
        }
      ]
    },
    {
      "cell_type": "code",
      "metadata": {
        "id": "30VDp4LJe4aP",
        "colab_type": "code",
        "colab": {
          "base_uri": "https://localhost:8080/",
          "height": 527
        },
        "outputId": "dc8033c3-2146-4af5-a6a7-6727bc7df838"
      },
      "source": [
        "x_train[:2],y_train[:2]"
      ],
      "execution_count": 90,
      "outputs": [
        {
          "output_type": "execute_result",
          "data": {
            "text/plain": [
              "(['drive/My Drive/Dog-Breed-Project/train/00bee065dcec471f26394855c5c2f3de.jpg',\n",
              "  'drive/My Drive/Dog-Breed-Project/train/0d2f9e12a2611d911d91a339074c8154.jpg'],\n",
              " [array([False, False, False, False, False, False, False, False, False,\n",
              "         False, False, False, False, False, False, False, False, False,\n",
              "         False, False, False, False, False, False, False, False,  True,\n",
              "         False, False, False, False, False, False, False, False, False,\n",
              "         False, False, False, False, False, False, False, False, False,\n",
              "         False, False, False, False, False, False, False, False, False,\n",
              "         False, False, False, False, False, False, False, False, False,\n",
              "         False, False, False, False, False, False, False, False, False,\n",
              "         False, False, False, False, False, False, False, False, False,\n",
              "         False, False, False, False, False, False, False, False, False,\n",
              "         False, False, False, False, False, False, False, False, False,\n",
              "         False, False, False, False, False, False, False, False, False,\n",
              "         False, False, False, False, False, False, False, False, False,\n",
              "         False, False, False]),\n",
              "  array([False, False, False, False, False, False, False, False, False,\n",
              "         False, False, False, False, False, False, False, False, False,\n",
              "         False, False,  True, False, False, False, False, False, False,\n",
              "         False, False, False, False, False, False, False, False, False,\n",
              "         False, False, False, False, False, False, False, False, False,\n",
              "         False, False, False, False, False, False, False, False, False,\n",
              "         False, False, False, False, False, False, False, False, False,\n",
              "         False, False, False, False, False, False, False, False, False,\n",
              "         False, False, False, False, False, False, False, False, False,\n",
              "         False, False, False, False, False, False, False, False, False,\n",
              "         False, False, False, False, False, False, False, False, False,\n",
              "         False, False, False, False, False, False, False, False, False,\n",
              "         False, False, False, False, False, False, False, False, False,\n",
              "         False, False, False])])"
            ]
          },
          "metadata": {
            "tags": []
          },
          "execution_count": 90
        }
      ]
    },
    {
      "cell_type": "markdown",
      "metadata": {
        "id": "hS09-vuefEMu",
        "colab_type": "text"
      },
      "source": [
        "## 3. Preprocessing Images \n",
        "\n",
        "To pre-process the images , we're going to create a function which does a few things :\n",
        "\n",
        "1. take an image filepath as input . \n",
        "\n",
        "2. Use tensorflow to read the file and save it into a variable. \n",
        "\n",
        "3. Turn our image (jpeg) into Tensors . \n",
        "\n",
        "4. Normalize our image (convert colour channel values from 0-255 to 0-1).\n",
        "\n",
        "5. Resize the image to (224,224)\n",
        "\n",
        "6. Return the modified image "
      ]
    },
    {
      "cell_type": "code",
      "metadata": {
        "id": "U1NpmOeagAca",
        "colab_type": "code",
        "colab": {}
      },
      "source": [
        "## define the image size \n",
        "IMG_SIZE=224\n",
        "\n",
        "## create a finction for image preprocessing \n",
        "\n",
        "def process_image (image_path,img_size=IMG_SIZE):\n",
        "  \"\"\"\n",
        "  Takes the image path as the input and preprocess the image .\n",
        "  This then returns the modified image.\n",
        "  \n",
        "  \"\"\"\n",
        "  #read in an image file \n",
        "  image=tf.io.read_file(image_path)\n",
        "  #Turn the jpeg image into a numerical tensor with 3 colour channels (RGB)\n",
        "  image=tf.image.decode_jpeg(image,channels=3)\n",
        "  #Normalize the image from 0-255 to 0-1\n",
        "  image=tf.image.convert_image_dtype(image,tf.float32)\n",
        "  # resize the image to (224,224)\n",
        "  image=tf.image.resize(image,size=[IMG_SIZE,IMG_SIZE])\n",
        "\n",
        "  return image \n",
        "  \n",
        "  \n",
        "\n",
        "\n"
      ],
      "execution_count": 91,
      "outputs": []
    },
    {
      "cell_type": "markdown",
      "metadata": {
        "id": "qdaE5_V4kVF0",
        "colab_type": "text"
      },
      "source": [
        "## 4. Turning our data into Batches \n",
        "\n",
        "If we're trying to process 10,000+ images in one go , they all might not fit into the memory which can lead to poor accuracy . Hence we convert them into batches of 32 and process them one batch at a time . \n",
        "\n",
        "In order to effectively use tensorflow, we need our data in the form of tuples . which look like this :\n",
        "(image, label)"
      ]
    },
    {
      "cell_type": "code",
      "metadata": {
        "id": "gMfvuK4Ik4Xe",
        "colab_type": "code",
        "colab": {}
      },
      "source": [
        "# creating a simple function to return a tuple(img,label)\n",
        "\n",
        "def get_image_label(image_path,label):\n",
        "  \"\"\"\n",
        "  Takes an image filepath and its associated label, processes the image and returns \n",
        "  a tuple. \n",
        "  \"\"\"\n",
        "  image = process_image(image_path)\n",
        "  return image,label "
      ],
      "execution_count": 92,
      "outputs": []
    },
    {
      "cell_type": "code",
      "metadata": {
        "id": "0iYo8hr0mXdb",
        "colab_type": "code",
        "colab": {
          "base_uri": "https://localhost:8080/",
          "height": 1000
        },
        "outputId": "3f4a4db8-f6f8-403b-da14-9e90abf55cc1"
      },
      "source": [
        "# Demo of the above\n",
        "(process_image(x[42]), tf.constant(y[42]))"
      ],
      "execution_count": 93,
      "outputs": [
        {
          "output_type": "execute_result",
          "data": {
            "text/plain": [
              "(<tf.Tensor: shape=(224, 224, 3), dtype=float32, numpy=\n",
              " array([[[0.3264178 , 0.5222886 , 0.3232816 ],\n",
              "         [0.2537167 , 0.44366494, 0.24117757],\n",
              "         [0.25699762, 0.4467087 , 0.23893751],\n",
              "         ...,\n",
              "         [0.29325107, 0.5189916 , 0.3215547 ],\n",
              "         [0.29721776, 0.52466875, 0.33030328],\n",
              "         [0.2948505 , 0.5223015 , 0.33406618]],\n",
              " \n",
              "        [[0.25903144, 0.4537807 , 0.27294815],\n",
              "         [0.24375686, 0.4407019 , 0.2554778 ],\n",
              "         [0.2838985 , 0.47213382, 0.28298813],\n",
              "         ...,\n",
              "         [0.2785345 , 0.5027992 , 0.31004712],\n",
              "         [0.28428748, 0.5108719 , 0.32523635],\n",
              "         [0.28821915, 0.5148036 , 0.32916805]],\n",
              " \n",
              "        [[0.20941195, 0.40692952, 0.25792548],\n",
              "         [0.24045378, 0.43900946, 0.2868911 ],\n",
              "         [0.29001117, 0.47937486, 0.32247734],\n",
              "         ...,\n",
              "         [0.26074055, 0.48414773, 0.30125174],\n",
              "         [0.27101526, 0.49454468, 0.32096273],\n",
              "         [0.27939945, 0.5029289 , 0.32934693]],\n",
              " \n",
              "        ...,\n",
              " \n",
              "        [[0.00634795, 0.03442048, 0.0258106 ],\n",
              "         [0.01408936, 0.04459917, 0.0301715 ],\n",
              "         [0.01385712, 0.04856448, 0.02839671],\n",
              "         ...,\n",
              "         [0.4220516 , 0.39761978, 0.21622123],\n",
              "         [0.47932503, 0.45370543, 0.2696505 ],\n",
              "         [0.48181024, 0.45828083, 0.27004552]],\n",
              " \n",
              "        [[0.00222061, 0.02262166, 0.03176915],\n",
              "         [0.01008397, 0.03669046, 0.02473482],\n",
              "         [0.00608852, 0.03890046, 0.01207283],\n",
              "         ...,\n",
              "         [0.36070833, 0.33803678, 0.16216145],\n",
              "         [0.42499566, 0.3976801 , 0.21701711],\n",
              "         [0.4405433 , 0.4139589 , 0.23183356]],\n",
              " \n",
              "        [[0.05608025, 0.06760229, 0.10401428],\n",
              "         [0.05441074, 0.07435255, 0.05428263],\n",
              "         [0.04734282, 0.07581793, 0.02060942],\n",
              "         ...,\n",
              "         [0.3397559 , 0.31265694, 0.14725602],\n",
              "         [0.387725  , 0.360274  , 0.18714729],\n",
              "         [0.43941984, 0.41196886, 0.23884216]]], dtype=float32)>,\n",
              " <tf.Tensor: shape=(120,), dtype=bool, numpy=\n",
              " array([False, False, False, False, False, False, False, False, False,\n",
              "        False, False, False, False, False, False, False, False, False,\n",
              "        False, False, False, False, False, False, False, False, False,\n",
              "        False, False, False, False, False, False, False, False, False,\n",
              "         True, False, False, False, False, False, False, False, False,\n",
              "        False, False, False, False, False, False, False, False, False,\n",
              "        False, False, False, False, False, False, False, False, False,\n",
              "        False, False, False, False, False, False, False, False, False,\n",
              "        False, False, False, False, False, False, False, False, False,\n",
              "        False, False, False, False, False, False, False, False, False,\n",
              "        False, False, False, False, False, False, False, False, False,\n",
              "        False, False, False, False, False, False, False, False, False,\n",
              "        False, False, False, False, False, False, False, False, False,\n",
              "        False, False, False])>)"
            ]
          },
          "metadata": {
            "tags": []
          },
          "execution_count": 93
        }
      ]
    },
    {
      "cell_type": "markdown",
      "metadata": {
        "id": "j7es1c-0mfRH",
        "colab_type": "text"
      },
      "source": [
        "Now that we've gotten a way to turn our data into tuples lets create a function to turn all our data (x&y)\n",
        "into batches "
      ]
    },
    {
      "cell_type": "code",
      "metadata": {
        "id": "ZHfsPYIEm9b6",
        "colab_type": "code",
        "colab": {}
      },
      "source": [
        "# Define the batch size, 32 is a good start\n",
        "BATCH_SIZE = 32\n",
        "\n",
        "# Create a function to turn data into batches\n",
        "def create_data_batches(x, y=None, batch_size=BATCH_SIZE, valid_data=False, test_data=False):\n",
        "  \"\"\"\n",
        "  Creates batches of data out of image (X) and label (y) pairs.\n",
        "  Shuffles the data if it's training data but doesn't shuffle if it's validation data.\n",
        "  Also accepts test data as input (no labels).\n",
        "  \"\"\"\n",
        "  # If the data is a test dataset, we probably don't have have labels\n",
        "  if test_data:\n",
        "    print(\"Creating test data batches...\")\n",
        "    data = tf.data.Dataset.from_tensor_slices((tf.constant(x))) # only filepaths (no labels)\n",
        "    data_batch = data.map(process_image).batch(BATCH_SIZE)\n",
        "    return data_batch\n",
        "  \n",
        "  # If the data is a valid dataset, we don't need to shuffle it\n",
        "  elif valid_data:\n",
        "    print(\"Creating validation data batches...\")\n",
        "    data = tf.data.Dataset.from_tensor_slices((tf.constant(x), # filepaths\n",
        "                                               tf.constant(y))) # labels\n",
        "    data_batch = data.map(get_image_label).batch(BATCH_SIZE)\n",
        "    return data_batch\n",
        "\n",
        "  else:\n",
        "    print(\"Creating training data batches...\")\n",
        "    # Turn filepaths and labels into Tensors\n",
        "    data = tf.data.Dataset.from_tensor_slices((tf.constant(x),\n",
        "                                               tf.constant(y)))\n",
        "    # Shuffling pathnames and labels before mapping image processor function is faster than shuffling images\n",
        "    data = data.shuffle(buffer_size=len(x))\n",
        "\n",
        "    # Create (image, label) tuples (this also turns the iamge path into a preprocessed image)\n",
        "    data = data.map(get_image_label)\n",
        "\n",
        "    # Turn the training data into batches\n",
        "    data_batch = data.batch(BATCH_SIZE)\n",
        "  return data_batch"
      ],
      "execution_count": 94,
      "outputs": []
    },
    {
      "cell_type": "code",
      "metadata": {
        "id": "Y2OcU8K3r6Cq",
        "colab_type": "code",
        "colab": {
          "base_uri": "https://localhost:8080/",
          "height": 51
        },
        "outputId": "49717e88-6291-41cd-cf46-f0fa1eb3c553"
      },
      "source": [
        "# Create training and validation data batches\n",
        "train_data = create_data_batches(x_train, y_train)\n",
        "val_data = create_data_batches(x_val, y_val, valid_data=True)"
      ],
      "execution_count": 95,
      "outputs": [
        {
          "output_type": "stream",
          "text": [
            "Creating training data batches...\n",
            "Creating validation data batches...\n"
          ],
          "name": "stdout"
        }
      ]
    },
    {
      "cell_type": "markdown",
      "metadata": {
        "id": "ozs3pln2uGqW",
        "colab_type": "text"
      },
      "source": [
        "## 5. Build a model \n",
        "\n",
        "Before we build our model , there are a few things that we need to define :\n",
        "\n",
        "1) input shape \n",
        "\n",
        "2) output shape \n",
        "\n",
        "3) URL of the model we want to use from TensorFlow Hub:\n",
        "\n",
        "https://tfhub.dev/google/imagenet/mobilenet_v2_130_224/classification/4"
      ]
    },
    {
      "cell_type": "code",
      "metadata": {
        "id": "abrrtssiwqLZ",
        "colab_type": "code",
        "colab": {}
      },
      "source": [
        "# input shape \n",
        "INPUT_SHAPE = [None,IMG_SIZE,IMG_SIZE,3]\n",
        "# output shape \n",
        "OUTPUT_SHAPE = len(unique_breeds)\n",
        "\n",
        "# set up model URL from tensorflow hub \n",
        "MODEL_URL= \"https://tfhub.dev/google/imagenet/mobilenet_v2_130_224/classification/4\""
      ],
      "execution_count": 96,
      "outputs": []
    },
    {
      "cell_type": "markdown",
      "metadata": {
        "id": "MHfCiOWkBjSA",
        "colab_type": "text"
      },
      "source": [
        "Now that we have our input , output and model url setup, lets put them together in a keras deep learning model .\n",
        "\n",
        "Knowing this , lets create a function which :\n",
        "\n",
        "1. Defines the keras model in a sequential fashion \n",
        "\n",
        "2. compiles the model\n",
        "\n",
        "3. Builds the model \n",
        "\n",
        "4. Returns the model .\n",
        "\n"
      ]
    },
    {
      "cell_type": "code",
      "metadata": {
        "id": "oZsModB8CLfZ",
        "colab_type": "code",
        "colab": {}
      },
      "source": [
        "def create_model(input_shape=INPUT_SHAPE, output_shape=OUTPUT_SHAPE, model_url=MODEL_URL):\n",
        "  print(\"Building model with :\", MODEL_URL)\n",
        "\n",
        "  # setup the model layers \n",
        "\n",
        "  model=tf.keras.Sequential([\n",
        "                             hub.KerasLayer(MODEL_URL),# layer 1\n",
        "                             tf.keras.layers.Dense(units=OUTPUT_SHAPE,#layer2(output layer)\n",
        "                                                   activation=\"softmax\")\n",
        "                        \n",
        "  ])\n",
        "\n",
        "  # compile the model \n",
        "\n",
        "  model.compile(\n",
        "      loss=tf.keras.losses.CategoricalCrossentropy(),\n",
        "      optimizer=tf.keras.optimizers.Adam(),\n",
        "      metrics=[\"accuracy\"]\n",
        "  )\n",
        "\n",
        "  #Build the model \n",
        "  model.build(INPUT_SHAPE)\n",
        "\n",
        "  return model "
      ],
      "execution_count": 97,
      "outputs": []
    },
    {
      "cell_type": "code",
      "metadata": {
        "id": "Mxnf_RAGD1vh",
        "colab_type": "code",
        "colab": {
          "base_uri": "https://localhost:8080/",
          "height": 238
        },
        "outputId": "6858fd71-a9f1-4538-bc62-6679fb72737a"
      },
      "source": [
        "model=create_model()\n",
        "model.summary()"
      ],
      "execution_count": 98,
      "outputs": [
        {
          "output_type": "stream",
          "text": [
            "Building model with : https://tfhub.dev/google/imagenet/mobilenet_v2_130_224/classification/4\n",
            "Model: \"sequential_5\"\n",
            "_________________________________________________________________\n",
            "Layer (type)                 Output Shape              Param #   \n",
            "=================================================================\n",
            "keras_layer_5 (KerasLayer)   multiple                  5432713   \n",
            "_________________________________________________________________\n",
            "dense_5 (Dense)              multiple                  120240    \n",
            "=================================================================\n",
            "Total params: 5,552,953\n",
            "Trainable params: 120,240\n",
            "Non-trainable params: 5,432,713\n",
            "_________________________________________________________________\n"
          ],
          "name": "stdout"
        }
      ]
    },
    {
      "cell_type": "markdown",
      "metadata": {
        "id": "irWjYCKFD9cP",
        "colab_type": "text"
      },
      "source": [
        "## 6. Training a model on a subset of data \n",
        "\n",
        "training on a subset to make sure everything is working "
      ]
    },
    {
      "cell_type": "code",
      "metadata": {
        "id": "C2I8-BSyEyt-",
        "colab_type": "code",
        "colab": {}
      },
      "source": [
        "NUM_EPOCHS = 100 #@param {type:\"slider\", min:10, max:100, step:10}"
      ],
      "execution_count": 99,
      "outputs": []
    },
    {
      "cell_type": "code",
      "metadata": {
        "id": "B0MY1vo_GEo2",
        "colab_type": "code",
        "colab": {}
      },
      "source": [
        "# Build a function to train and return a trained model \n",
        "\n",
        "def train_model():\n",
        "  \"\"\"\n",
        "  Trains a given model and returns a trained model.\n",
        "  \n",
        "  \"\"\"\n",
        "  model=create_model()\n",
        "\n",
        "  # fit the model \n",
        "  model.fit(x=train_data,\n",
        "            epochs=NUM_EPOCHS,\n",
        "            validation_data=val_data,\n",
        "            validation_freq=1)\n",
        "  #return a fitted model \n",
        "  return model"
      ],
      "execution_count": 100,
      "outputs": []
    },
    {
      "cell_type": "code",
      "metadata": {
        "id": "1dURBvx7G_Y9",
        "colab_type": "code",
        "colab": {
          "base_uri": "https://localhost:8080/",
          "height": 1000
        },
        "outputId": "19dd364f-0529-481e-adf2-f2e40788cfa5"
      },
      "source": [
        "#fit model to the data \n",
        "model=train_model()"
      ],
      "execution_count": 32,
      "outputs": [
        {
          "output_type": "stream",
          "text": [
            "Building model with : https://tfhub.dev/google/imagenet/mobilenet_v2_130_224/classification/4\n",
            "Epoch 1/100\n",
            "25/25 [==============================] - 592s 24s/step - loss: 4.5451 - accuracy: 0.0775 - val_loss: 3.4262 - val_accuracy: 0.2150\n",
            "Epoch 2/100\n",
            "25/25 [==============================] - 6s 242ms/step - loss: 1.6348 - accuracy: 0.6988 - val_loss: 2.1773 - val_accuracy: 0.5400\n",
            "Epoch 3/100\n",
            "25/25 [==============================] - 6s 239ms/step - loss: 0.5656 - accuracy: 0.9413 - val_loss: 1.6547 - val_accuracy: 0.6300\n",
            "Epoch 4/100\n",
            "25/25 [==============================] - 6s 242ms/step - loss: 0.2542 - accuracy: 0.9900 - val_loss: 1.4958 - val_accuracy: 0.6450\n",
            "Epoch 5/100\n",
            "25/25 [==============================] - 6s 243ms/step - loss: 0.1460 - accuracy: 0.9962 - val_loss: 1.4227 - val_accuracy: 0.6700\n",
            "Epoch 6/100\n",
            "25/25 [==============================] - 6s 238ms/step - loss: 0.1005 - accuracy: 1.0000 - val_loss: 1.3648 - val_accuracy: 0.6700\n",
            "Epoch 7/100\n",
            "25/25 [==============================] - 6s 242ms/step - loss: 0.0757 - accuracy: 1.0000 - val_loss: 1.3398 - val_accuracy: 0.6600\n",
            "Epoch 8/100\n",
            "25/25 [==============================] - 6s 246ms/step - loss: 0.0598 - accuracy: 1.0000 - val_loss: 1.3158 - val_accuracy: 0.6650\n",
            "Epoch 9/100\n",
            "25/25 [==============================] - 6s 246ms/step - loss: 0.0491 - accuracy: 1.0000 - val_loss: 1.3012 - val_accuracy: 0.6650\n",
            "Epoch 10/100\n",
            "25/25 [==============================] - 6s 248ms/step - loss: 0.0416 - accuracy: 1.0000 - val_loss: 1.2851 - val_accuracy: 0.6700\n",
            "Epoch 11/100\n",
            "25/25 [==============================] - 6s 248ms/step - loss: 0.0356 - accuracy: 1.0000 - val_loss: 1.2742 - val_accuracy: 0.6650\n",
            "Epoch 12/100\n",
            "25/25 [==============================] - 6s 245ms/step - loss: 0.0313 - accuracy: 1.0000 - val_loss: 1.2670 - val_accuracy: 0.6600\n",
            "Epoch 13/100\n",
            "25/25 [==============================] - 6s 243ms/step - loss: 0.0276 - accuracy: 1.0000 - val_loss: 1.2572 - val_accuracy: 0.6650\n",
            "Epoch 14/100\n",
            "25/25 [==============================] - 6s 245ms/step - loss: 0.0245 - accuracy: 1.0000 - val_loss: 1.2480 - val_accuracy: 0.6650\n",
            "Epoch 15/100\n",
            "25/25 [==============================] - 6s 242ms/step - loss: 0.0220 - accuracy: 1.0000 - val_loss: 1.2426 - val_accuracy: 0.6700\n",
            "Epoch 16/100\n",
            "25/25 [==============================] - 6s 244ms/step - loss: 0.0199 - accuracy: 1.0000 - val_loss: 1.2353 - val_accuracy: 0.6750\n",
            "Epoch 17/100\n",
            "25/25 [==============================] - 6s 246ms/step - loss: 0.0181 - accuracy: 1.0000 - val_loss: 1.2321 - val_accuracy: 0.6750\n",
            "Epoch 18/100\n",
            "25/25 [==============================] - 6s 247ms/step - loss: 0.0166 - accuracy: 1.0000 - val_loss: 1.2288 - val_accuracy: 0.6750\n",
            "Epoch 19/100\n",
            "25/25 [==============================] - 6s 242ms/step - loss: 0.0152 - accuracy: 1.0000 - val_loss: 1.2224 - val_accuracy: 0.6700\n",
            "Epoch 20/100\n",
            "25/25 [==============================] - 6s 242ms/step - loss: 0.0141 - accuracy: 1.0000 - val_loss: 1.2187 - val_accuracy: 0.6700\n",
            "Epoch 21/100\n",
            "25/25 [==============================] - 6s 246ms/step - loss: 0.0131 - accuracy: 1.0000 - val_loss: 1.2156 - val_accuracy: 0.6700\n",
            "Epoch 22/100\n",
            "25/25 [==============================] - 6s 244ms/step - loss: 0.0122 - accuracy: 1.0000 - val_loss: 1.2127 - val_accuracy: 0.6750\n",
            "Epoch 23/100\n",
            "25/25 [==============================] - 6s 246ms/step - loss: 0.0114 - accuracy: 1.0000 - val_loss: 1.2133 - val_accuracy: 0.6700\n",
            "Epoch 24/100\n",
            "25/25 [==============================] - 6s 245ms/step - loss: 0.0106 - accuracy: 1.0000 - val_loss: 1.2089 - val_accuracy: 0.6650\n",
            "Epoch 25/100\n",
            "25/25 [==============================] - 6s 242ms/step - loss: 0.0100 - accuracy: 1.0000 - val_loss: 1.2069 - val_accuracy: 0.6750\n",
            "Epoch 26/100\n",
            "25/25 [==============================] - 6s 241ms/step - loss: 0.0094 - accuracy: 1.0000 - val_loss: 1.2055 - val_accuracy: 0.6700\n",
            "Epoch 27/100\n",
            "25/25 [==============================] - 6s 244ms/step - loss: 0.0089 - accuracy: 1.0000 - val_loss: 1.2013 - val_accuracy: 0.6650\n",
            "Epoch 28/100\n",
            "25/25 [==============================] - 6s 245ms/step - loss: 0.0084 - accuracy: 1.0000 - val_loss: 1.2019 - val_accuracy: 0.6650\n",
            "Epoch 29/100\n",
            "25/25 [==============================] - 6s 251ms/step - loss: 0.0079 - accuracy: 1.0000 - val_loss: 1.2008 - val_accuracy: 0.6650\n",
            "Epoch 30/100\n",
            "25/25 [==============================] - 6s 258ms/step - loss: 0.0075 - accuracy: 1.0000 - val_loss: 1.2000 - val_accuracy: 0.6650\n",
            "Epoch 31/100\n",
            "25/25 [==============================] - 6s 230ms/step - loss: 0.0071 - accuracy: 1.0000 - val_loss: 1.1970 - val_accuracy: 0.6650\n",
            "Epoch 32/100\n",
            "25/25 [==============================] - 6s 226ms/step - loss: 0.0068 - accuracy: 1.0000 - val_loss: 1.1961 - val_accuracy: 0.6650\n",
            "Epoch 33/100\n",
            "25/25 [==============================] - 6s 224ms/step - loss: 0.0065 - accuracy: 1.0000 - val_loss: 1.1939 - val_accuracy: 0.6650\n",
            "Epoch 34/100\n",
            "25/25 [==============================] - 6s 233ms/step - loss: 0.0062 - accuracy: 1.0000 - val_loss: 1.1943 - val_accuracy: 0.6700\n",
            "Epoch 35/100\n",
            "25/25 [==============================] - 6s 230ms/step - loss: 0.0059 - accuracy: 1.0000 - val_loss: 1.1938 - val_accuracy: 0.6650\n",
            "Epoch 36/100\n",
            "25/25 [==============================] - 6s 229ms/step - loss: 0.0056 - accuracy: 1.0000 - val_loss: 1.1924 - val_accuracy: 0.6650\n",
            "Epoch 37/100\n",
            "25/25 [==============================] - 6s 236ms/step - loss: 0.0054 - accuracy: 1.0000 - val_loss: 1.1914 - val_accuracy: 0.6650\n",
            "Epoch 38/100\n",
            "25/25 [==============================] - 6s 232ms/step - loss: 0.0052 - accuracy: 1.0000 - val_loss: 1.1917 - val_accuracy: 0.6650\n",
            "Epoch 39/100\n",
            "25/25 [==============================] - 6s 233ms/step - loss: 0.0049 - accuracy: 1.0000 - val_loss: 1.1905 - val_accuracy: 0.6650\n",
            "Epoch 40/100\n",
            "25/25 [==============================] - 7s 261ms/step - loss: 0.0047 - accuracy: 1.0000 - val_loss: 1.1890 - val_accuracy: 0.6650\n",
            "Epoch 41/100\n",
            "25/25 [==============================] - 6s 242ms/step - loss: 0.0046 - accuracy: 1.0000 - val_loss: 1.1897 - val_accuracy: 0.6650\n",
            "Epoch 42/100\n",
            "25/25 [==============================] - 6s 233ms/step - loss: 0.0044 - accuracy: 1.0000 - val_loss: 1.1902 - val_accuracy: 0.6650\n",
            "Epoch 43/100\n",
            "25/25 [==============================] - 6s 233ms/step - loss: 0.0042 - accuracy: 1.0000 - val_loss: 1.1890 - val_accuracy: 0.6650\n",
            "Epoch 44/100\n",
            "25/25 [==============================] - 6s 241ms/step - loss: 0.0041 - accuracy: 1.0000 - val_loss: 1.1889 - val_accuracy: 0.6650\n",
            "Epoch 45/100\n",
            "25/25 [==============================] - 6s 239ms/step - loss: 0.0039 - accuracy: 1.0000 - val_loss: 1.1881 - val_accuracy: 0.6650\n",
            "Epoch 46/100\n",
            "25/25 [==============================] - 6s 240ms/step - loss: 0.0038 - accuracy: 1.0000 - val_loss: 1.1888 - val_accuracy: 0.6650\n",
            "Epoch 47/100\n",
            "25/25 [==============================] - 6s 240ms/step - loss: 0.0036 - accuracy: 1.0000 - val_loss: 1.1866 - val_accuracy: 0.6650\n",
            "Epoch 48/100\n",
            "25/25 [==============================] - 6s 238ms/step - loss: 0.0035 - accuracy: 1.0000 - val_loss: 1.1864 - val_accuracy: 0.6650\n",
            "Epoch 49/100\n",
            "25/25 [==============================] - 6s 238ms/step - loss: 0.0034 - accuracy: 1.0000 - val_loss: 1.1873 - val_accuracy: 0.6650\n",
            "Epoch 50/100\n",
            "25/25 [==============================] - 6s 247ms/step - loss: 0.0033 - accuracy: 1.0000 - val_loss: 1.1860 - val_accuracy: 0.6650\n",
            "Epoch 51/100\n",
            "25/25 [==============================] - 6s 241ms/step - loss: 0.0032 - accuracy: 1.0000 - val_loss: 1.1867 - val_accuracy: 0.6650\n",
            "Epoch 52/100\n",
            "25/25 [==============================] - 6s 243ms/step - loss: 0.0031 - accuracy: 1.0000 - val_loss: 1.1865 - val_accuracy: 0.6700\n",
            "Epoch 53/100\n",
            "25/25 [==============================] - 6s 244ms/step - loss: 0.0030 - accuracy: 1.0000 - val_loss: 1.1866 - val_accuracy: 0.6700\n",
            "Epoch 54/100\n",
            "25/25 [==============================] - 6s 245ms/step - loss: 0.0029 - accuracy: 1.0000 - val_loss: 1.1862 - val_accuracy: 0.6750\n",
            "Epoch 55/100\n",
            "25/25 [==============================] - 6s 245ms/step - loss: 0.0028 - accuracy: 1.0000 - val_loss: 1.1861 - val_accuracy: 0.6750\n",
            "Epoch 56/100\n",
            "25/25 [==============================] - 6s 246ms/step - loss: 0.0027 - accuracy: 1.0000 - val_loss: 1.1859 - val_accuracy: 0.6750\n",
            "Epoch 57/100\n",
            "25/25 [==============================] - 6s 245ms/step - loss: 0.0026 - accuracy: 1.0000 - val_loss: 1.1861 - val_accuracy: 0.6750\n",
            "Epoch 58/100\n",
            "25/25 [==============================] - 6s 244ms/step - loss: 0.0026 - accuracy: 1.0000 - val_loss: 1.1859 - val_accuracy: 0.6750\n",
            "Epoch 59/100\n",
            "25/25 [==============================] - 6s 245ms/step - loss: 0.0025 - accuracy: 1.0000 - val_loss: 1.1855 - val_accuracy: 0.6750\n",
            "Epoch 60/100\n",
            "25/25 [==============================] - 6s 245ms/step - loss: 0.0024 - accuracy: 1.0000 - val_loss: 1.1852 - val_accuracy: 0.6750\n",
            "Epoch 61/100\n",
            "25/25 [==============================] - 6s 247ms/step - loss: 0.0023 - accuracy: 1.0000 - val_loss: 1.1851 - val_accuracy: 0.6750\n",
            "Epoch 62/100\n",
            "25/25 [==============================] - 6s 242ms/step - loss: 0.0023 - accuracy: 1.0000 - val_loss: 1.1861 - val_accuracy: 0.6800\n",
            "Epoch 63/100\n",
            "25/25 [==============================] - 6s 243ms/step - loss: 0.0022 - accuracy: 1.0000 - val_loss: 1.1859 - val_accuracy: 0.6800\n",
            "Epoch 64/100\n",
            "25/25 [==============================] - 6s 243ms/step - loss: 0.0022 - accuracy: 1.0000 - val_loss: 1.1872 - val_accuracy: 0.6800\n",
            "Epoch 65/100\n",
            "25/25 [==============================] - 6s 243ms/step - loss: 0.0021 - accuracy: 1.0000 - val_loss: 1.1867 - val_accuracy: 0.6800\n",
            "Epoch 66/100\n",
            "25/25 [==============================] - 6s 247ms/step - loss: 0.0020 - accuracy: 1.0000 - val_loss: 1.1863 - val_accuracy: 0.6800\n",
            "Epoch 67/100\n",
            "25/25 [==============================] - 6s 244ms/step - loss: 0.0020 - accuracy: 1.0000 - val_loss: 1.1869 - val_accuracy: 0.6800\n",
            "Epoch 68/100\n",
            "25/25 [==============================] - 6s 239ms/step - loss: 0.0019 - accuracy: 1.0000 - val_loss: 1.1864 - val_accuracy: 0.6800\n",
            "Epoch 69/100\n",
            "25/25 [==============================] - 6s 244ms/step - loss: 0.0019 - accuracy: 1.0000 - val_loss: 1.1867 - val_accuracy: 0.6800\n",
            "Epoch 70/100\n",
            "25/25 [==============================] - 6s 244ms/step - loss: 0.0018 - accuracy: 1.0000 - val_loss: 1.1863 - val_accuracy: 0.6800\n",
            "Epoch 71/100\n",
            "25/25 [==============================] - 6s 248ms/step - loss: 0.0018 - accuracy: 1.0000 - val_loss: 1.1872 - val_accuracy: 0.6800\n",
            "Epoch 72/100\n",
            "25/25 [==============================] - 6s 243ms/step - loss: 0.0018 - accuracy: 1.0000 - val_loss: 1.1876 - val_accuracy: 0.6800\n",
            "Epoch 73/100\n",
            "25/25 [==============================] - 6s 240ms/step - loss: 0.0017 - accuracy: 1.0000 - val_loss: 1.1873 - val_accuracy: 0.6800\n",
            "Epoch 74/100\n",
            "25/25 [==============================] - 6s 243ms/step - loss: 0.0017 - accuracy: 1.0000 - val_loss: 1.1872 - val_accuracy: 0.6800\n",
            "Epoch 75/100\n",
            "25/25 [==============================] - 6s 242ms/step - loss: 0.0016 - accuracy: 1.0000 - val_loss: 1.1879 - val_accuracy: 0.6850\n",
            "Epoch 76/100\n",
            "25/25 [==============================] - 6s 246ms/step - loss: 0.0016 - accuracy: 1.0000 - val_loss: 1.1874 - val_accuracy: 0.6850\n",
            "Epoch 77/100\n",
            "25/25 [==============================] - 6s 245ms/step - loss: 0.0016 - accuracy: 1.0000 - val_loss: 1.1878 - val_accuracy: 0.6850\n",
            "Epoch 78/100\n",
            "25/25 [==============================] - 6s 255ms/step - loss: 0.0015 - accuracy: 1.0000 - val_loss: 1.1882 - val_accuracy: 0.6850\n",
            "Epoch 79/100\n",
            "25/25 [==============================] - 6s 234ms/step - loss: 0.0015 - accuracy: 1.0000 - val_loss: 1.1883 - val_accuracy: 0.6850\n",
            "Epoch 80/100\n",
            "25/25 [==============================] - 6s 236ms/step - loss: 0.0014 - accuracy: 1.0000 - val_loss: 1.1884 - val_accuracy: 0.6850\n",
            "Epoch 81/100\n",
            "25/25 [==============================] - 6s 242ms/step - loss: 0.0014 - accuracy: 1.0000 - val_loss: 1.1880 - val_accuracy: 0.6850\n",
            "Epoch 82/100\n",
            "25/25 [==============================] - 6s 246ms/step - loss: 0.0014 - accuracy: 1.0000 - val_loss: 1.1890 - val_accuracy: 0.6850\n",
            "Epoch 83/100\n",
            "25/25 [==============================] - 6s 246ms/step - loss: 0.0014 - accuracy: 1.0000 - val_loss: 1.1896 - val_accuracy: 0.6850\n",
            "Epoch 84/100\n",
            "25/25 [==============================] - 6s 239ms/step - loss: 0.0013 - accuracy: 1.0000 - val_loss: 1.1893 - val_accuracy: 0.6850\n",
            "Epoch 85/100\n",
            "25/25 [==============================] - 6s 240ms/step - loss: 0.0013 - accuracy: 1.0000 - val_loss: 1.1900 - val_accuracy: 0.6850\n",
            "Epoch 86/100\n",
            "25/25 [==============================] - 6s 242ms/step - loss: 0.0013 - accuracy: 1.0000 - val_loss: 1.1901 - val_accuracy: 0.6850\n",
            "Epoch 87/100\n",
            "25/25 [==============================] - 6s 245ms/step - loss: 0.0012 - accuracy: 1.0000 - val_loss: 1.1907 - val_accuracy: 0.6850\n",
            "Epoch 88/100\n",
            "25/25 [==============================] - 6s 258ms/step - loss: 0.0012 - accuracy: 1.0000 - val_loss: 1.1908 - val_accuracy: 0.6850\n",
            "Epoch 89/100\n",
            "25/25 [==============================] - 7s 285ms/step - loss: 0.0012 - accuracy: 1.0000 - val_loss: 1.1905 - val_accuracy: 0.6850\n",
            "Epoch 90/100\n",
            "25/25 [==============================] - 6s 248ms/step - loss: 0.0012 - accuracy: 1.0000 - val_loss: 1.1911 - val_accuracy: 0.6850\n",
            "Epoch 91/100\n",
            "25/25 [==============================] - 6s 245ms/step - loss: 0.0011 - accuracy: 1.0000 - val_loss: 1.1910 - val_accuracy: 0.6850\n",
            "Epoch 92/100\n",
            "25/25 [==============================] - 6s 243ms/step - loss: 0.0011 - accuracy: 1.0000 - val_loss: 1.1922 - val_accuracy: 0.6850\n",
            "Epoch 93/100\n",
            "25/25 [==============================] - 6s 243ms/step - loss: 0.0011 - accuracy: 1.0000 - val_loss: 1.1917 - val_accuracy: 0.6850\n",
            "Epoch 94/100\n",
            "25/25 [==============================] - 6s 251ms/step - loss: 0.0011 - accuracy: 1.0000 - val_loss: 1.1918 - val_accuracy: 0.6850\n",
            "Epoch 95/100\n",
            "25/25 [==============================] - 6s 245ms/step - loss: 0.0010 - accuracy: 1.0000 - val_loss: 1.1923 - val_accuracy: 0.6850\n",
            "Epoch 96/100\n",
            "25/25 [==============================] - 6s 247ms/step - loss: 0.0010 - accuracy: 1.0000 - val_loss: 1.1931 - val_accuracy: 0.6850\n",
            "Epoch 97/100\n",
            "25/25 [==============================] - 6s 249ms/step - loss: 0.0010 - accuracy: 1.0000 - val_loss: 1.1928 - val_accuracy: 0.6850\n",
            "Epoch 98/100\n",
            "25/25 [==============================] - 6s 244ms/step - loss: 9.8541e-04 - accuracy: 1.0000 - val_loss: 1.1930 - val_accuracy: 0.6850\n",
            "Epoch 99/100\n",
            "25/25 [==============================] - 6s 243ms/step - loss: 9.6607e-04 - accuracy: 1.0000 - val_loss: 1.1934 - val_accuracy: 0.6850\n",
            "Epoch 100/100\n",
            "25/25 [==============================] - 6s 246ms/step - loss: 9.4728e-04 - accuracy: 1.0000 - val_loss: 1.1943 - val_accuracy: 0.6850\n"
          ],
          "name": "stdout"
        }
      ]
    },
    {
      "cell_type": "markdown",
      "metadata": {
        "id": "bIBh5to_HHDT",
        "colab_type": "text"
      },
      "source": [
        "## 7. Training on full dataset \n",
        "\n",
        "Now that this model didnt show any errors , we'll train a new model on the full data . "
      ]
    },
    {
      "cell_type": "code",
      "metadata": {
        "id": "EbEW1k_BLCwi",
        "colab_type": "code",
        "colab": {
          "base_uri": "https://localhost:8080/",
          "height": 34
        },
        "outputId": "d8ffb8db-0518-4886-ba96-528a06a0bfa4"
      },
      "source": [
        "len(x),len(y)"
      ],
      "execution_count": 114,
      "outputs": [
        {
          "output_type": "execute_result",
          "data": {
            "text/plain": [
              "(10222, 10222)"
            ]
          },
          "metadata": {
            "tags": []
          },
          "execution_count": 114
        }
      ]
    },
    {
      "cell_type": "code",
      "metadata": {
        "id": "tTdASGpLMv2Y",
        "colab_type": "code",
        "colab": {
          "base_uri": "https://localhost:8080/",
          "height": 34
        },
        "outputId": "78c1d6a9-232f-4de4-a149-e9c4b39e988d"
      },
      "source": [
        "#create batches with full dataset \n",
        "full_data=create_data_batches(x,y)"
      ],
      "execution_count": 115,
      "outputs": [
        {
          "output_type": "stream",
          "text": [
            "Creating training data batches...\n"
          ],
          "name": "stdout"
        }
      ]
    },
    {
      "cell_type": "code",
      "metadata": {
        "id": "UTAahQMbGf7l",
        "colab_type": "code",
        "colab": {}
      },
      "source": [
        "# creating a new model and fitting it on the entire training data \n",
        "full_model=create_model()\n",
        "full_model.fit(x=full_data,\n",
        "               epochs=NUM_EPOCHS)"
      ],
      "execution_count": null,
      "outputs": []
    },
    {
      "cell_type": "code",
      "metadata": {
        "id": "n5i2eEGuNUJ3",
        "colab_type": "code",
        "colab": {}
      },
      "source": [
        "import os \n",
        "import datetime\n",
        "def save_model(model, suffix=None):\n",
        "  \"\"\"\n",
        "  Saves a given model in a models directory and appends a suffix (string).\n",
        "  \"\"\"\n",
        "  # Create a model directory pathname with current time\n",
        "  modeldir = os.path.join(\"drive/My Drive/Dog-Breed-Project/models\",\n",
        "                          datetime.datetime.now().strftime(\"%Y%m%d-%H%M%s\"))\n",
        "  model_path = modeldir + \"-\" + suffix + \".h5\" # save format of model\n",
        "  print(f\"Saving model to: {model_path}...\")\n",
        "  model.save(model_path)\n",
        "  return model_path"
      ],
      "execution_count": 103,
      "outputs": []
    },
    {
      "cell_type": "code",
      "metadata": {
        "id": "hV_osWhlgBqp",
        "colab_type": "code",
        "colab": {}
      },
      "source": [
        "# Create a function to load a trained model\n",
        "def load_model(model_path):\n",
        "  \"\"\"\n",
        "  Loads a saved model from a specified path.\n",
        "  \"\"\"\n",
        "  print(f\"Loading saved model from: {model_path}\")\n",
        "  model = tf.keras.models.load_model(model_path, \n",
        "                                     custom_objects={\"KerasLayer\":hub.KerasLayer})\n",
        "  return model"
      ],
      "execution_count": 104,
      "outputs": []
    },
    {
      "cell_type": "code",
      "metadata": {
        "id": "YNyilzuOj_xS",
        "colab_type": "code",
        "colab": {
          "base_uri": "https://localhost:8080/",
          "height": 72
        },
        "outputId": "a621380d-e7af-4814-b746-6c02d9fd7250"
      },
      "source": [
        "save_model(full_model, suffix=\"complete-image-set-mobilenetv2-Adam\")"
      ],
      "execution_count": 48,
      "outputs": [
        {
          "output_type": "stream",
          "text": [
            "Saving model to: drive/My Drive/Dog-Breed-Project/models/20200731-13051596200714-complete-image-set-mobilenetv2-Adam.h5...\n"
          ],
          "name": "stdout"
        },
        {
          "output_type": "execute_result",
          "data": {
            "application/vnd.google.colaboratory.intrinsic+json": {
              "type": "string"
            },
            "text/plain": [
              "'drive/My Drive/Dog-Breed-Project/models/20200731-13051596200714-complete-image-set-mobilenetv2-Adam.h5'"
            ]
          },
          "metadata": {
            "tags": []
          },
          "execution_count": 48
        }
      ]
    },
    {
      "cell_type": "markdown",
      "metadata": {
        "id": "M-s7zDEL-JJx",
        "colab_type": "text"
      },
      "source": [
        "## 8. Making predictions on test data "
      ]
    },
    {
      "cell_type": "code",
      "metadata": {
        "id": "4kcmVlFU-sQA",
        "colab_type": "code",
        "colab": {
          "base_uri": "https://localhost:8080/",
          "height": 187
        },
        "outputId": "5d457bf7-b49f-4cfd-d2ae-f3c2e1c87004"
      },
      "source": [
        "# Load test image filenames\n",
        "test_path = \"/content/drive/My Drive/Dog-Breed-Project/test\"\n",
        "test_filenames = [test_path + fname for fname in os.listdir(test_path)]\n",
        "test_filenames[:10]"
      ],
      "execution_count": 105,
      "outputs": [
        {
          "output_type": "execute_result",
          "data": {
            "text/plain": [
              "['/content/drive/My Drive/Dog-Breed-Project/testf50e3cf5abd93afce432348daa6c4789.jpg',\n",
              " '/content/drive/My Drive/Dog-Breed-Project/testf4db24d71e6f3100614eb4543f98394f.jpg',\n",
              " '/content/drive/My Drive/Dog-Breed-Project/testf4fa65b062607d69c98f16cb625d5915.jpg',\n",
              " '/content/drive/My Drive/Dog-Breed-Project/testf599f4d08388e69960e17234ebd0beba.jpg',\n",
              " '/content/drive/My Drive/Dog-Breed-Project/testf5b7603797d8a92d5b7b52d073891347.jpg',\n",
              " '/content/drive/My Drive/Dog-Breed-Project/testf4e1d93f8d4f389547d69a5cd468e49d.jpg',\n",
              " '/content/drive/My Drive/Dog-Breed-Project/testf4a3d9cf1909fb5d894ff5d5121af9b0.jpg',\n",
              " '/content/drive/My Drive/Dog-Breed-Project/testf4eb6450497df847ef1012d61d869007.jpg',\n",
              " '/content/drive/My Drive/Dog-Breed-Project/testf47cd43251c741ee459c688955c41f29.jpg',\n",
              " '/content/drive/My Drive/Dog-Breed-Project/testf592d6ca12a9d99c18f26260c3eb148a.jpg']"
            ]
          },
          "metadata": {
            "tags": []
          },
          "execution_count": 105
        }
      ]
    },
    {
      "cell_type": "code",
      "metadata": {
        "id": "71Ujkgzk-x6T",
        "colab_type": "code",
        "colab": {
          "base_uri": "https://localhost:8080/",
          "height": 34
        },
        "outputId": "b1f7f073-c5ab-435d-f55e-7eb4c0c2450a"
      },
      "source": [
        "len(test_filenames)"
      ],
      "execution_count": 106,
      "outputs": [
        {
          "output_type": "execute_result",
          "data": {
            "text/plain": [
              "10357"
            ]
          },
          "metadata": {
            "tags": []
          },
          "execution_count": 106
        }
      ]
    },
    {
      "cell_type": "code",
      "metadata": {
        "id": "a8k9m6-r_NTk",
        "colab_type": "code",
        "colab": {
          "base_uri": "https://localhost:8080/",
          "height": 34
        },
        "outputId": "47727e14-da5e-4d51-8b6e-2827a1a993a5"
      },
      "source": [
        "# Create test data batch\n",
        "test_data = create_data_batches(test_filenames, test_data=True)"
      ],
      "execution_count": 107,
      "outputs": [
        {
          "output_type": "stream",
          "text": [
            "Creating test data batches...\n"
          ],
          "name": "stdout"
        }
      ]
    },
    {
      "cell_type": "code",
      "metadata": {
        "id": "tTqt1w52_QWD",
        "colab_type": "code",
        "colab": {
          "base_uri": "https://localhost:8080/",
          "height": 54
        },
        "outputId": "2e4b6176-62fc-496b-b8c7-989e018851ff"
      },
      "source": [
        "loaded_full_model=load_model(\"drive/My Drive/Dog-Breed-Project/models/20200731-13051596200714-complete-image-set-mobilenetv2-Adam.h5\")"
      ],
      "execution_count": 111,
      "outputs": [
        {
          "output_type": "stream",
          "text": [
            "Loading saved model from: drive/My Drive/Dog-Breed-Project/models/20200731-13051596200714-complete-image-set-mobilenetv2-Adam.h5\n"
          ],
          "name": "stdout"
        }
      ]
    },
    {
      "cell_type": "code",
      "metadata": {
        "id": "qTeP1GWlB92z",
        "colab_type": "code",
        "colab": {
          "base_uri": "https://localhost:8080/",
          "height": 596
        },
        "outputId": "e35ef7a6-e492-40d1-e790-476ced9c8778"
      },
      "source": [
        "# Make predictions on test data batch using the loaded full model\n",
        "test_predictions = loaded_full_model.predict(test_data,\n",
        "                                             verbose=1)"
      ],
      "execution_count": 119,
      "outputs": [
        {
          "output_type": "error",
          "ename": "NotFoundError",
          "evalue": "ignored",
          "traceback": [
            "\u001b[0;31m---------------------------------------------------------------------------\u001b[0m",
            "\u001b[0;31mNotFoundError\u001b[0m                             Traceback (most recent call last)",
            "\u001b[0;32m<ipython-input-119-1081792ff13f>\u001b[0m in \u001b[0;36m<module>\u001b[0;34m()\u001b[0m\n\u001b[1;32m      1\u001b[0m \u001b[0;31m# Make predictions on test data batch using the loaded full model\u001b[0m\u001b[0;34m\u001b[0m\u001b[0;34m\u001b[0m\u001b[0;34m\u001b[0m\u001b[0m\n\u001b[1;32m      2\u001b[0m test_predictions = loaded_full_model.predict(test_data,\n\u001b[0;32m----> 3\u001b[0;31m                                              verbose=1)\n\u001b[0m",
            "\u001b[0;32m/usr/local/lib/python3.6/dist-packages/tensorflow/python/keras/engine/training.py\u001b[0m in \u001b[0;36m_method_wrapper\u001b[0;34m(self, *args, **kwargs)\u001b[0m\n\u001b[1;32m     86\u001b[0m       raise ValueError('{} is not supported in multi-worker mode.'.format(\n\u001b[1;32m     87\u001b[0m           method.__name__))\n\u001b[0;32m---> 88\u001b[0;31m     \u001b[0;32mreturn\u001b[0m \u001b[0mmethod\u001b[0m\u001b[0;34m(\u001b[0m\u001b[0mself\u001b[0m\u001b[0;34m,\u001b[0m \u001b[0;34m*\u001b[0m\u001b[0margs\u001b[0m\u001b[0;34m,\u001b[0m \u001b[0;34m**\u001b[0m\u001b[0mkwargs\u001b[0m\u001b[0;34m)\u001b[0m\u001b[0;34m\u001b[0m\u001b[0;34m\u001b[0m\u001b[0m\n\u001b[0m\u001b[1;32m     89\u001b[0m \u001b[0;34m\u001b[0m\u001b[0m\n\u001b[1;32m     90\u001b[0m   return tf_decorator.make_decorator(\n",
            "\u001b[0;32m/usr/local/lib/python3.6/dist-packages/tensorflow/python/keras/engine/training.py\u001b[0m in \u001b[0;36mpredict\u001b[0;34m(self, x, batch_size, verbose, steps, callbacks, max_queue_size, workers, use_multiprocessing)\u001b[0m\n\u001b[1;32m   1266\u001b[0m           \u001b[0;32mfor\u001b[0m \u001b[0mstep\u001b[0m \u001b[0;32min\u001b[0m \u001b[0mdata_handler\u001b[0m\u001b[0;34m.\u001b[0m\u001b[0msteps\u001b[0m\u001b[0;34m(\u001b[0m\u001b[0;34m)\u001b[0m\u001b[0;34m:\u001b[0m\u001b[0;34m\u001b[0m\u001b[0;34m\u001b[0m\u001b[0m\n\u001b[1;32m   1267\u001b[0m             \u001b[0mcallbacks\u001b[0m\u001b[0;34m.\u001b[0m\u001b[0mon_predict_batch_begin\u001b[0m\u001b[0;34m(\u001b[0m\u001b[0mstep\u001b[0m\u001b[0;34m)\u001b[0m\u001b[0;34m\u001b[0m\u001b[0;34m\u001b[0m\u001b[0m\n\u001b[0;32m-> 1268\u001b[0;31m             \u001b[0mtmp_batch_outputs\u001b[0m \u001b[0;34m=\u001b[0m \u001b[0mpredict_function\u001b[0m\u001b[0;34m(\u001b[0m\u001b[0miterator\u001b[0m\u001b[0;34m)\u001b[0m\u001b[0;34m\u001b[0m\u001b[0;34m\u001b[0m\u001b[0m\n\u001b[0m\u001b[1;32m   1269\u001b[0m             \u001b[0;31m# Catch OutOfRangeError for Datasets of unknown size.\u001b[0m\u001b[0;34m\u001b[0m\u001b[0;34m\u001b[0m\u001b[0;34m\u001b[0m\u001b[0m\n\u001b[1;32m   1270\u001b[0m             \u001b[0;31m# This blocks until the batch has finished executing.\u001b[0m\u001b[0;34m\u001b[0m\u001b[0;34m\u001b[0m\u001b[0;34m\u001b[0m\u001b[0m\n",
            "\u001b[0;32m/usr/local/lib/python3.6/dist-packages/tensorflow/python/eager/def_function.py\u001b[0m in \u001b[0;36m__call__\u001b[0;34m(self, *args, **kwds)\u001b[0m\n\u001b[1;32m    578\u001b[0m         \u001b[0mxla_context\u001b[0m\u001b[0;34m.\u001b[0m\u001b[0mExit\u001b[0m\u001b[0;34m(\u001b[0m\u001b[0;34m)\u001b[0m\u001b[0;34m\u001b[0m\u001b[0;34m\u001b[0m\u001b[0m\n\u001b[1;32m    579\u001b[0m     \u001b[0;32melse\u001b[0m\u001b[0;34m:\u001b[0m\u001b[0;34m\u001b[0m\u001b[0;34m\u001b[0m\u001b[0m\n\u001b[0;32m--> 580\u001b[0;31m       \u001b[0mresult\u001b[0m \u001b[0;34m=\u001b[0m \u001b[0mself\u001b[0m\u001b[0;34m.\u001b[0m\u001b[0m_call\u001b[0m\u001b[0;34m(\u001b[0m\u001b[0;34m*\u001b[0m\u001b[0margs\u001b[0m\u001b[0;34m,\u001b[0m \u001b[0;34m**\u001b[0m\u001b[0mkwds\u001b[0m\u001b[0;34m)\u001b[0m\u001b[0;34m\u001b[0m\u001b[0;34m\u001b[0m\u001b[0m\n\u001b[0m\u001b[1;32m    581\u001b[0m \u001b[0;34m\u001b[0m\u001b[0m\n\u001b[1;32m    582\u001b[0m     \u001b[0;32mif\u001b[0m \u001b[0mtracing_count\u001b[0m \u001b[0;34m==\u001b[0m \u001b[0mself\u001b[0m\u001b[0;34m.\u001b[0m\u001b[0m_get_tracing_count\u001b[0m\u001b[0;34m(\u001b[0m\u001b[0;34m)\u001b[0m\u001b[0;34m:\u001b[0m\u001b[0;34m\u001b[0m\u001b[0;34m\u001b[0m\u001b[0m\n",
            "\u001b[0;32m/usr/local/lib/python3.6/dist-packages/tensorflow/python/eager/def_function.py\u001b[0m in \u001b[0;36m_call\u001b[0;34m(self, *args, **kwds)\u001b[0m\n\u001b[1;32m    616\u001b[0m       \u001b[0;31m# In this case we have not created variables on the first call. So we can\u001b[0m\u001b[0;34m\u001b[0m\u001b[0;34m\u001b[0m\u001b[0;34m\u001b[0m\u001b[0m\n\u001b[1;32m    617\u001b[0m       \u001b[0;31m# run the first trace but we should fail if variables are created.\u001b[0m\u001b[0;34m\u001b[0m\u001b[0;34m\u001b[0m\u001b[0;34m\u001b[0m\u001b[0m\n\u001b[0;32m--> 618\u001b[0;31m       \u001b[0mresults\u001b[0m \u001b[0;34m=\u001b[0m \u001b[0mself\u001b[0m\u001b[0;34m.\u001b[0m\u001b[0m_stateful_fn\u001b[0m\u001b[0;34m(\u001b[0m\u001b[0;34m*\u001b[0m\u001b[0margs\u001b[0m\u001b[0;34m,\u001b[0m \u001b[0;34m**\u001b[0m\u001b[0mkwds\u001b[0m\u001b[0;34m)\u001b[0m\u001b[0;34m\u001b[0m\u001b[0;34m\u001b[0m\u001b[0m\n\u001b[0m\u001b[1;32m    619\u001b[0m       \u001b[0;32mif\u001b[0m \u001b[0mself\u001b[0m\u001b[0;34m.\u001b[0m\u001b[0m_created_variables\u001b[0m\u001b[0;34m:\u001b[0m\u001b[0;34m\u001b[0m\u001b[0;34m\u001b[0m\u001b[0m\n\u001b[1;32m    620\u001b[0m         raise ValueError(\"Creating variables on a non-first call to a function\"\n",
            "\u001b[0;32m/usr/local/lib/python3.6/dist-packages/tensorflow/python/eager/function.py\u001b[0m in \u001b[0;36m__call__\u001b[0;34m(self, *args, **kwargs)\u001b[0m\n\u001b[1;32m   2418\u001b[0m     \u001b[0;32mwith\u001b[0m \u001b[0mself\u001b[0m\u001b[0;34m.\u001b[0m\u001b[0m_lock\u001b[0m\u001b[0;34m:\u001b[0m\u001b[0;34m\u001b[0m\u001b[0;34m\u001b[0m\u001b[0m\n\u001b[1;32m   2419\u001b[0m       \u001b[0mgraph_function\u001b[0m\u001b[0;34m,\u001b[0m \u001b[0margs\u001b[0m\u001b[0;34m,\u001b[0m \u001b[0mkwargs\u001b[0m \u001b[0;34m=\u001b[0m \u001b[0mself\u001b[0m\u001b[0;34m.\u001b[0m\u001b[0m_maybe_define_function\u001b[0m\u001b[0;34m(\u001b[0m\u001b[0margs\u001b[0m\u001b[0;34m,\u001b[0m \u001b[0mkwargs\u001b[0m\u001b[0;34m)\u001b[0m\u001b[0;34m\u001b[0m\u001b[0;34m\u001b[0m\u001b[0m\n\u001b[0;32m-> 2420\u001b[0;31m     \u001b[0;32mreturn\u001b[0m \u001b[0mgraph_function\u001b[0m\u001b[0;34m.\u001b[0m\u001b[0m_filtered_call\u001b[0m\u001b[0;34m(\u001b[0m\u001b[0margs\u001b[0m\u001b[0;34m,\u001b[0m \u001b[0mkwargs\u001b[0m\u001b[0;34m)\u001b[0m  \u001b[0;31m# pylint: disable=protected-access\u001b[0m\u001b[0;34m\u001b[0m\u001b[0;34m\u001b[0m\u001b[0m\n\u001b[0m\u001b[1;32m   2421\u001b[0m \u001b[0;34m\u001b[0m\u001b[0m\n\u001b[1;32m   2422\u001b[0m   \u001b[0;34m@\u001b[0m\u001b[0mproperty\u001b[0m\u001b[0;34m\u001b[0m\u001b[0;34m\u001b[0m\u001b[0m\n",
            "\u001b[0;32m/usr/local/lib/python3.6/dist-packages/tensorflow/python/eager/function.py\u001b[0m in \u001b[0;36m_filtered_call\u001b[0;34m(self, args, kwargs)\u001b[0m\n\u001b[1;32m   1663\u001b[0m          if isinstance(t, (ops.Tensor,\n\u001b[1;32m   1664\u001b[0m                            resource_variable_ops.BaseResourceVariable))),\n\u001b[0;32m-> 1665\u001b[0;31m         self.captured_inputs)\n\u001b[0m\u001b[1;32m   1666\u001b[0m \u001b[0;34m\u001b[0m\u001b[0m\n\u001b[1;32m   1667\u001b[0m   \u001b[0;32mdef\u001b[0m \u001b[0m_call_flat\u001b[0m\u001b[0;34m(\u001b[0m\u001b[0mself\u001b[0m\u001b[0;34m,\u001b[0m \u001b[0margs\u001b[0m\u001b[0;34m,\u001b[0m \u001b[0mcaptured_inputs\u001b[0m\u001b[0;34m,\u001b[0m \u001b[0mcancellation_manager\u001b[0m\u001b[0;34m=\u001b[0m\u001b[0;32mNone\u001b[0m\u001b[0;34m)\u001b[0m\u001b[0;34m:\u001b[0m\u001b[0;34m\u001b[0m\u001b[0;34m\u001b[0m\u001b[0m\n",
            "\u001b[0;32m/usr/local/lib/python3.6/dist-packages/tensorflow/python/eager/function.py\u001b[0m in \u001b[0;36m_call_flat\u001b[0;34m(self, args, captured_inputs, cancellation_manager)\u001b[0m\n\u001b[1;32m   1744\u001b[0m       \u001b[0;31m# No tape is watching; skip to running the function.\u001b[0m\u001b[0;34m\u001b[0m\u001b[0;34m\u001b[0m\u001b[0;34m\u001b[0m\u001b[0m\n\u001b[1;32m   1745\u001b[0m       return self._build_call_outputs(self._inference_function.call(\n\u001b[0;32m-> 1746\u001b[0;31m           ctx, args, cancellation_manager=cancellation_manager))\n\u001b[0m\u001b[1;32m   1747\u001b[0m     forward_backward = self._select_forward_and_backward_functions(\n\u001b[1;32m   1748\u001b[0m         \u001b[0margs\u001b[0m\u001b[0;34m,\u001b[0m\u001b[0;34m\u001b[0m\u001b[0;34m\u001b[0m\u001b[0m\n",
            "\u001b[0;32m/usr/local/lib/python3.6/dist-packages/tensorflow/python/eager/function.py\u001b[0m in \u001b[0;36mcall\u001b[0;34m(self, ctx, args, cancellation_manager)\u001b[0m\n\u001b[1;32m    596\u001b[0m               \u001b[0minputs\u001b[0m\u001b[0;34m=\u001b[0m\u001b[0margs\u001b[0m\u001b[0;34m,\u001b[0m\u001b[0;34m\u001b[0m\u001b[0;34m\u001b[0m\u001b[0m\n\u001b[1;32m    597\u001b[0m               \u001b[0mattrs\u001b[0m\u001b[0;34m=\u001b[0m\u001b[0mattrs\u001b[0m\u001b[0;34m,\u001b[0m\u001b[0;34m\u001b[0m\u001b[0;34m\u001b[0m\u001b[0m\n\u001b[0;32m--> 598\u001b[0;31m               ctx=ctx)\n\u001b[0m\u001b[1;32m    599\u001b[0m         \u001b[0;32melse\u001b[0m\u001b[0;34m:\u001b[0m\u001b[0;34m\u001b[0m\u001b[0;34m\u001b[0m\u001b[0m\n\u001b[1;32m    600\u001b[0m           outputs = execute.execute_with_cancellation(\n",
            "\u001b[0;32m/usr/local/lib/python3.6/dist-packages/tensorflow/python/eager/execute.py\u001b[0m in \u001b[0;36mquick_execute\u001b[0;34m(op_name, num_outputs, inputs, attrs, ctx, name)\u001b[0m\n\u001b[1;32m     58\u001b[0m     \u001b[0mctx\u001b[0m\u001b[0;34m.\u001b[0m\u001b[0mensure_initialized\u001b[0m\u001b[0;34m(\u001b[0m\u001b[0;34m)\u001b[0m\u001b[0;34m\u001b[0m\u001b[0;34m\u001b[0m\u001b[0m\n\u001b[1;32m     59\u001b[0m     tensors = pywrap_tfe.TFE_Py_Execute(ctx._handle, device_name, op_name,\n\u001b[0;32m---> 60\u001b[0;31m                                         inputs, attrs, num_outputs)\n\u001b[0m\u001b[1;32m     61\u001b[0m   \u001b[0;32mexcept\u001b[0m \u001b[0mcore\u001b[0m\u001b[0;34m.\u001b[0m\u001b[0m_NotOkStatusException\u001b[0m \u001b[0;32mas\u001b[0m \u001b[0me\u001b[0m\u001b[0;34m:\u001b[0m\u001b[0;34m\u001b[0m\u001b[0;34m\u001b[0m\u001b[0m\n\u001b[1;32m     62\u001b[0m     \u001b[0;32mif\u001b[0m \u001b[0mname\u001b[0m \u001b[0;32mis\u001b[0m \u001b[0;32mnot\u001b[0m \u001b[0;32mNone\u001b[0m\u001b[0;34m:\u001b[0m\u001b[0;34m\u001b[0m\u001b[0;34m\u001b[0m\u001b[0m\n",
            "\u001b[0;31mNotFoundError\u001b[0m: 2 root error(s) found.\n  (0) Not found:  /content/drive/My Drive/Dog-Breed-Project/testf50e3cf5abd93afce432348daa6c4789.jpg; No such file or directory\n\t [[{{node ReadFile}}]]\n\t [[IteratorGetNext]]\n  (1) Not found:  /content/drive/My Drive/Dog-Breed-Project/testf50e3cf5abd93afce432348daa6c4789.jpg; No such file or directory\n\t [[{{node ReadFile}}]]\n\t [[IteratorGetNext]]\n\t [[IteratorGetNext/_2]]\n0 successful operations.\n0 derived errors ignored. [Op:__inference_predict_function_206811]\n\nFunction call stack:\npredict_function -> predict_function\n"
          ]
        }
      ]
    },
    {
      "cell_type": "code",
      "metadata": {
        "id": "9ju3a68TFkUc",
        "colab_type": "code",
        "colab": {}
      },
      "source": [
        ""
      ],
      "execution_count": null,
      "outputs": []
    }
  ]
}